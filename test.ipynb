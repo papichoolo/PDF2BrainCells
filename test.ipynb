{
 "cells": [
  {
   "cell_type": "markdown",
   "metadata": {},
   "source": [
    "Dependencies needed langchain, LLamacpp, and lord knows what else"
   ]
  },
  {
   "cell_type": "code",
   "execution_count": 1,
   "metadata": {},
   "outputs": [
    {
     "name": "stderr",
     "output_type": "stream",
     "text": [
      "DEPRECATION: Loading egg at c:\\python311\\lib\\site-packages\\dgllife-0.3.1-py3.11.egg is deprecated. pip 24.3 will enforce this behaviour change. A possible replacement is to use pip for package installation.. Discussion can be found at https://github.com/pypa/pip/issues/12330\n",
      "DEPRECATION: Loading egg at c:\\python311\\lib\\site-packages\\hyperopt-0.2.7-py3.11.egg is deprecated. pip 24.3 will enforce this behaviour change. A possible replacement is to use pip for package installation.. Discussion can be found at https://github.com/pypa/pip/issues/12330\n"
     ]
    }
   ],
   "source": [
    "!pip install  -q pypdf \n",
    "!pip install -q rapidocr-onnxruntime"
   ]
  },
  {
   "cell_type": "code",
   "execution_count": 2,
   "metadata": {},
   "outputs": [],
   "source": [
    "from langchain_community.document_loaders import PyPDFLoader\n",
    "\n",
    "loader = PyPDFLoader(r\"C:\\Users\\utfu\\Downloads\\Unit-2\\Unit-2\\MachineVision_Chapter11.pdf\")#, extract_images=True)\n",
    "pages = loader.load_and_split()"
   ]
  },
  {
   "cell_type": "code",
   "execution_count": 3,
   "metadata": {},
   "outputs": [
    {
     "data": {
      "text/plain": [
       "Document(page_content='Chapter 11\\nDepth\\nCalculating thedistanceofvariouspointsinthescenerelativetotheposition\\nofthecameraisoneoftheimportant tasksforacomputer visionsystem.A\\ncommon methodforextracting suchdepthinformation fromintensity images\\nistoacquireapairofimagesusingtwocamerasdisplaced fromeachother\\nbyaknowndistance. Asanalternative, twoormoreimagestakenfroma\\nmovingcameracanalsobeusedtocompute depthinformation. Incontrast\\ntointensity images,imagesinwhichthevalueateachpixelisafunction\\nofthedistance ofthe.corresponding pointinthescenefromthesensorare\\ncalledrangeimages.Suchimagesareacquired directlyusingrangeimaging\\nsystems. Twoofthemostcommonly usedprinciples forobtaining suchrange\\nimagesareradarandtriangulation. Inaddition tothesemethods inwhich\\nthedepthinformation iscomputed directly, 3-Dinformation canalsobe\\nestimated indirectly from2-Dintensity imagesusingimagecuessuchas\\nshadingandtexture.Thesemethods aredescribed brieflyinthischapter.\\n11.1StereoImaging\\nThegeometry ofbinocular stereoisshowninFigure11.1.Thesimplest\\nmodelistwoidentical camerasseparated onlyinthexdirection byabaseline\\ndistanceb.Theimageplanesarecoplanar inthismodel.Afeatureinthe\\nsceneisviewedbythetwocamerasatdifferent positions intheimageplane.\\nThedisplacement betweenthelocations ofthetwofeaturesintheimageplane\\niscalledthedisparity. Theplanepassingthroughthecameracentersand\\n289', metadata={'source': 'C:\\\\Users\\\\utfu\\\\Downloads\\\\Unit-2\\\\Unit-2\\\\MachineVision_Chapter11.pdf', 'page': 0})"
      ]
     },
     "execution_count": 3,
     "metadata": {},
     "output_type": "execute_result"
    }
   ],
   "source": [
    "pages[0]"
   ]
  },
  {
   "cell_type": "code",
   "execution_count": 4,
   "metadata": {},
   "outputs": [],
   "source": [
    "import os\n",
    "import getpass\n",
    "\n",
    "os.environ['OPENAI_API_KEY'] = getpass.getpass('OpenAI API Key:')"
   ]
  },
  {
   "cell_type": "code",
   "execution_count": 5,
   "metadata": {},
   "outputs": [
    {
     "name": "stdout",
     "output_type": "stream",
     "text": [
      "Requirement already satisfied: faiss-cpu in c:\\python311\\lib\\site-packages (1.8.0)\n",
      "Requirement already satisfied: numpy in c:\\python311\\lib\\site-packages (from faiss-cpu) (1.26.4)\n"
     ]
    },
    {
     "name": "stderr",
     "output_type": "stream",
     "text": [
      "DEPRECATION: Loading egg at c:\\python311\\lib\\site-packages\\dgllife-0.3.1-py3.11.egg is deprecated. pip 24.3 will enforce this behaviour change. A possible replacement is to use pip for package installation.. Discussion can be found at https://github.com/pypa/pip/issues/12330\n",
      "DEPRECATION: Loading egg at c:\\python311\\lib\\site-packages\\hyperopt-0.2.7-py3.11.egg is deprecated. pip 24.3 will enforce this behaviour change. A possible replacement is to use pip for package installation.. Discussion can be found at https://github.com/pypa/pip/issues/12330\n"
     ]
    }
   ],
   "source": [
    "!pip install faiss-cpu"
   ]
  },
  {
   "cell_type": "code",
   "execution_count": 6,
   "metadata": {},
   "outputs": [
    {
     "name": "stdout",
     "output_type": "stream",
     "text": [
      "16: 11.5.ACTIVE VISION305\n",
      "11.4.2 Imaging Radar\n",
      "Asecondmethodforrangeimaging isimaging radar.Inatime-of-flight\n",
      "pulsedradar,thedistance totheobjectiscomputed byobserving thetime\n",
      "difference betweenthetransmitted andreceivedelectromagnetic pulse.The\n",
      "depthinformation canalsobeobtained bydetecting thephasedif\n",
      "14: 11.4.RANGE IMAGING303\n",
      "Lightstripe\n",
      "Scene\n",
      "Rotation\n",
      "~.'-Verticallight sheet\n",
      ", . , .\n",
      "[}ttoo=,\n",
      ",. Displacement\n",
      "Figure11.7:Illustration ofstripedlighting technique [131].\n",
      "Sincelog28is3,onlythreeimagesareacquired. Eachimageisidentified\n",
      "bythebitposition 1,2,or3ofthe3-bitbinarycode.Aparticular stripe\n",
      "oflight\n"
     ]
    }
   ],
   "source": [
    "from langchain_community.vectorstores import FAISS\n",
    "from langchain_openai import OpenAIEmbeddings\n",
    "\n",
    "faiss_index = FAISS.from_documents(pages, OpenAIEmbeddings())\n",
    "docs = faiss_index.similarity_search(\"Magnetoresistive\", k=2)\n",
    "for doc in docs:\n",
    "    print(str(doc.metadata[\"page\"]) + \":\", doc.page_content[:300])"
   ]
  },
  {
   "cell_type": "code",
   "execution_count": null,
   "metadata": {},
   "outputs": [],
   "source": [
    "\n",
    "import time\n",
    "\n",
    "def generate_response(input_text):\n",
    "    # Create a placeholder for the response\n",
    "    response_placeholder = st.empty()\n",
    "\n",
    "    # Initialize an empty string to store the response\n",
    "    response = \"\"\n",
    "\n",
    "    # Use a context manager to stream the response\n",
    "    with st.spinner('Generating response...'):\n",
    "        # Call your existing chain to get the response\n",
    "        complete_response = chain.invoke(input_text + \" \\n Give a detailed answer in an examination point of view\")\n",
    "\n",
    "        # Split the response into chunks\n",
    "        chunks = [complete_response[i:i+100] for i in range(0, len(complete_response), 100)]\n",
    "\n",
    "        # Stream the response chunk by chunk\n",
    "        for chunk in chunks:\n",
    "            # Append the current chunk to the response\n",
    "            response += chunk\n",
    "\n",
    "            # Update the placeholder with the current response\n",
    "            response_placeholder.markdown(response)\n",
    "\n",
    "            # Sleep for a short time to simulate streaming\n",
    "            time.sleep(0.1)\n",
    "\n",
    "    # Add a horizontal line after the response is complete\n",
    "    \n",
    "\n"
   ]
  },
  {
   "cell_type": "code",
   "execution_count": 7,
   "metadata": {},
   "outputs": [],
   "source": [
    "from langchain_core.runnables import RunnableLambda, RunnablePassthrough\n",
    "from langchain_openai import ChatOpenAI\n",
    "from langchain_core.prompts import ChatPromptTemplate\n",
    "from langchain_core.output_parsers import StrOutputParser\n",
    "retriever= faiss_index.as_retriever()\n",
    "template = \"\"\"Answer the question based for an examination point of view only on the following context for about 10 marks in Markdown format:\n",
    "{context}\n",
    "\n",
    "Question: {question}\n",
    "\"\"\"\n",
    "prompt = ChatPromptTemplate.from_template(template)\n",
    "\n",
    "model = ChatOpenAI()"
   ]
  },
  {
   "cell_type": "code",
   "execution_count": 8,
   "metadata": {},
   "outputs": [],
   "source": [
    "chain = (\n",
    "    {\"context\": retriever, \"question\": RunnablePassthrough()}\n",
    "    | prompt\n",
    "    | model\n",
    "    | StrOutputParser()\n",
    ")"
   ]
  },
  {
   "cell_type": "markdown",
   "metadata": {},
   "source": [
    "Providing a Structure"
   ]
  },
  {
   "cell_type": "code",
   "execution_count": 9,
   "metadata": {},
   "outputs": [],
   "source": [
    "text=chain.invoke(\"What is this document about? provide a structure for this document\")"
   ]
  },
  {
   "cell_type": "code",
   "execution_count": 10,
   "metadata": {},
   "outputs": [],
   "source": [
    "with open('sterostuff.txt', 'w') as f:\n",
    "    f.write(text)"
   ]
  },
  {
   "cell_type": "code",
   "execution_count": 11,
   "metadata": {},
   "outputs": [
    {
     "name": "stdout",
     "output_type": "stream",
     "text": [
      "# Executive Summary\n",
      "\n",
      "The document discusses various methods for range imaging, focusing on structured lighting and imaging radar. Structured lighting involves illuminating a scene with a known geometric pattern of light to calculate depth information. On the other hand, imaging radar uses time-of-flight pulsed radar or frequency-modulated beams to determine distance to objects. The concept of active vision, where parameters of data capture are dynamically controlled, is also explored. The document emphasizes the importance of precise understanding of imaging and processing systems for active vision. Overall, the document highlights the significance of range imaging techniques in computer vision systems.\n"
     ]
    }
   ],
   "source": [
    "text2=chain.invoke(\"Provide an executive summary of the document\")\n",
    "print(text2)"
   ]
  },
  {
   "cell_type": "code",
   "execution_count": 14,
   "metadata": {},
   "outputs": [],
   "source": [
    "text3=chain.invoke(\"Provide around 10 key questions in a examination standpoint\")"
   ]
  },
  {
   "cell_type": "code",
   "execution_count": 15,
   "metadata": {},
   "outputs": [
    {
     "name": "stdout",
     "output_type": "stream",
     "text": [
      "1. Sketch and calculate the range image captured by a camera system imaging a cube with 10 cm long edges.\n",
      "2. Derive an equation for the surface of zero disparity in a given figure.\n",
      "3. Calculate the disparity corresponding to a point in a convergent binocular imaging system.\n",
      "4. Find the disparity for a point located at (10, 20, 10) in a binocular stereo imaging system.\n",
      "5. Discuss the impact of increasing the baseline distance in wide-angle stereopsis methods.\n",
      "6. Explain the importance of detecting and matching features in image pairs for stereopsis.\n",
      "7. Describe the concept of structured lighting in range imaging.\n",
      "8. Explain how structured lighting systems calculate depth in a scene.\n",
      "9. Discuss the limitations of using structured lighting for dynamically changing scenes.\n",
      "10. Compare and contrast the range imaging methods discussed in the given context.\n"
     ]
    }
   ],
   "source": [
    "print(text3)"
   ]
  },
  {
   "cell_type": "code",
   "execution_count": null,
   "metadata": {},
   "outputs": [],
   "source": [
    "userq=input().strip()"
   ]
  },
  {
   "cell_type": "markdown",
   "metadata": {},
   "source": [
    "- Important Questions \n",
    "- Answers and Explanations citing the document\n",
    "- Summarization  "
   ]
  }
 ],
 "metadata": {
  "kernelspec": {
   "display_name": "Python 3",
   "language": "python",
   "name": "python3"
  },
  "language_info": {
   "codemirror_mode": {
    "name": "ipython",
    "version": 3
   },
   "file_extension": ".py",
   "mimetype": "text/x-python",
   "name": "python",
   "nbconvert_exporter": "python",
   "pygments_lexer": "ipython3",
   "version": "3.11.2"
  }
 },
 "nbformat": 4,
 "nbformat_minor": 2
}
